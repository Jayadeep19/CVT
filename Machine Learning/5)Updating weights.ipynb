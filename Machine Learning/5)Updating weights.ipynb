{
 "cells": [
  {
   "cell_type": "code",
   "execution_count": null,
   "id": "ed558680-6ec8-4cae-86f5-3708adf588d5",
   "metadata": {},
   "outputs": [],
   "source": [
    "import numpy as np"
   ]
  },
  {
   "cell_type": "code",
   "execution_count": null,
   "id": "523b9a3d-ece5-4df1-9ee5-dd64094f4dd9",
   "metadata": {},
   "outputs": [],
   "source": [
    "def sigmoid(x):\n",
    "    return 1/(1 + np.exp(-x))"
   ]
  },
  {
   "cell_type": "code",
   "execution_count": null,
   "id": "6599c845-4238-443d-9cad-10ba749fd178",
   "metadata": {},
   "outputs": [],
   "source": [
    "def sigmoid_der(x):\n",
    "    return x * (1-x)"
   ]
  },
  {
   "cell_type": "code",
   "execution_count": null,
   "id": "a1dc2e98-d69b-4d22-a452-68442fefd021",
   "metadata": {},
   "outputs": [],
   "source": [
    "training_inputs = np.array([[0,0,1],\n",
    "                           [1,1,1],\n",
    "                           [1,0,1],\n",
    "                            [0,1,1]]) "
   ]
  },
  {
   "cell_type": "code",
   "execution_count": null,
   "id": "8f43c1c8-aa7f-46fb-bebe-4fdc2564cc7e",
   "metadata": {},
   "outputs": [],
   "source": [
    "training_outputs = np.array([[0,1,1,0]]).T\n",
    "print(training_inputs.shape)"
   ]
  },
  {
   "cell_type": "code",
   "execution_count": null,
   "id": "702a228c-f368-47a6-bf83-3958d64be6c8",
   "metadata": {},
   "outputs": [],
   "source": [
    "np.random.seed(1)     #to get the same random numbers"
   ]
  },
  {
   "cell_type": "code",
   "execution_count": null,
   "id": "41b7d547-c38a-41d3-8bf4-571c5e336d30",
   "metadata": {},
   "outputs": [],
   "source": [
    "synaptic_weights = 2 * np.random.random((3,1)) -1          #weights for the 3 inputs, create a 3*1 array"
   ]
  },
  {
   "cell_type": "code",
   "execution_count": 41,
   "id": "8f31d5ab-2715-46bc-9ee0-98d848e9ae79",
   "metadata": {},
   "outputs": [
    {
     "name": "stdout",
     "output_type": "stream",
     "text": [
      "Random starting synaptic weights :\n",
      "float64\n"
     ]
    }
   ],
   "source": [
    "print('Random starting synaptic weights :')\n",
    "print(synaptic_weights)"
   ]
  },
  {
   "cell_type": "code",
   "execution_count": null,
   "id": "6420ff2f-655d-407a-8995-c154612b5b5a",
   "metadata": {},
   "outputs": [],
   "source": [
    "for iteration in range(20000):\n",
    "\n",
    "    input_layer = training_inputs\n",
    "    output_layer = sigmoid(np.dot(input_layer, synaptic_weights))\n",
    "\n",
    "    #updation of weights following the formulae: update = error * input * gradient of the sigmoid\n",
    "\n",
    "    error = training_outputs - output_layer\n",
    "    adjustments = error * sigmoid_der(output_layer)\n",
    "    synaptic_weights += np.dot(input_layer.T, adjustments)    "
   ]
  },
  {
   "cell_type": "code",
   "execution_count": null,
   "id": "99552696-70e9-4d44-a7d0-b903a06009e2",
   "metadata": {},
   "outputs": [],
   "source": [
    "print('synaptic weights after training :\\n {}'.format(synaptic_weights))"
   ]
  },
  {
   "cell_type": "code",
   "execution_count": 38,
   "id": "1d129528-f414-4bb3-a821-359edff2abdb",
   "metadata": {},
   "outputs": [
    {
     "name": "stdout",
     "output_type": "stream",
     "text": [
      "Outputs after training : \n",
      " [[0.00679672]\n",
      " [0.99445583]\n",
      " [0.99548516]\n",
      " [0.00553614]]\n"
     ]
    }
   ],
   "source": [
    "print('Outputs after training : \\n {}'.format(output_layer))"
   ]
  },
  {
   "cell_type": "code",
   "execution_count": null,
   "id": "a34960d5-baa9-4d7b-8748-89a7323059a2",
   "metadata": {},
   "outputs": [],
   "source": []
  },
  {
   "cell_type": "code",
   "execution_count": null,
   "id": "da59be6f-8b38-46ea-b9fb-25c037033eee",
   "metadata": {},
   "outputs": [],
   "source": []
  },
  {
   "cell_type": "code",
   "execution_count": null,
   "id": "ea6572ee-0bb9-4cc2-884b-8b2fc6d5c2be",
   "metadata": {},
   "outputs": [],
   "source": []
  },
  {
   "cell_type": "code",
   "execution_count": null,
   "id": "cfe47d43-656e-4aa3-b1e9-1a990d536143",
   "metadata": {},
   "outputs": [],
   "source": []
  },
  {
   "cell_type": "code",
   "execution_count": null,
   "id": "9cd9b65f-96f6-49c2-a476-e33da23be360",
   "metadata": {},
   "outputs": [],
   "source": []
  },
  {
   "cell_type": "code",
   "execution_count": null,
   "id": "5c3b2f9e-c0dd-4420-9a68-a45a8138d69f",
   "metadata": {},
   "outputs": [],
   "source": []
  },
  {
   "cell_type": "code",
   "execution_count": null,
   "id": "46b744e6-58c5-4e9a-97cc-3da1e2f77600",
   "metadata": {},
   "outputs": [],
   "source": []
  }
 ],
 "metadata": {
  "kernelspec": {
   "display_name": "Python 3",
   "language": "python",
   "name": "python3"
  },
  "language_info": {
   "codemirror_mode": {
    "name": "ipython",
    "version": 3
   },
   "file_extension": ".py",
   "mimetype": "text/x-python",
   "name": "python",
   "nbconvert_exporter": "python",
   "pygments_lexer": "ipython3",
   "version": "3.8.10"
  }
 },
 "nbformat": 4,
 "nbformat_minor": 5
}
