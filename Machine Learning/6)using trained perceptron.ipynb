{
 "cells": [
  {
   "cell_type": "code",
   "execution_count": 1,
   "id": "a624c904-2aa6-4a72-8aa3-417cf4755938",
   "metadata": {},
   "outputs": [],
   "source": [
    "import numpy as np"
   ]
  },
  {
   "cell_type": "code",
   "execution_count": 2,
   "id": "f8e3cbc6-26b1-44f4-9201-98c376ac122a",
   "metadata": {},
   "outputs": [],
   "source": [
    "class NeuralNetwork():\n",
    "    \n",
    "    def __init__(self):\n",
    "        np.random.seed(1)\n",
    "        \n",
    "        self.synaptic_weights = 2* np.random.random((3,1)) - 1\n",
    "    \n",
    "    def sigmoid(self,x):\n",
    "        return 1/(1 + np.exp(-x))\n",
    "    \n",
    "    def sigmoid_der(self, x):\n",
    "        return x * (1 - x)\n",
    "    \n",
    "    def train (self, training_inputs, training_outputs, training_iterations):\n",
    "        \n",
    "        for iterations in range(training_iterations):\n",
    "            \n",
    "            output = self.think(training_inputs)\n",
    "            error = training_outputs - output\n",
    "            \n",
    "            adjustments = error * self.sigmoid_der(output)\n",
    "            self.synaptic_weights += np.dot(training_inputs.T, adjustments)\n",
    "            \n",
    "    def think(self, inputs):\n",
    "        \n",
    "        inputs = inputs.astype(float)\n",
    "        output = self.sigmoid(np.dot(inputs, self.synaptic_weights))\n",
    "        return output        "
   ]
  },
  {
   "cell_type": "code",
   "execution_count": 4,
   "id": "9b07d3ea-6ca3-4e36-944d-7c0a7dd63c8e",
   "metadata": {},
   "outputs": [
    {
     "name": "stdout",
     "output_type": "stream",
     "text": [
      "Random synaptic weights :\n",
      " [[-0.16595599]\n",
      " [ 0.44064899]\n",
      " [-0.99977125]]\n",
      "synaptic weights after training: \n",
      " [[ 9.67299303]\n",
      " [-0.2078435 ]\n",
      " [-4.62963669]]\n"
     ]
    },
    {
     "name": "stdin",
     "output_type": "stream",
     "text": [
      "Input 1 : 1\n",
      "Input 2 : 1\n",
      "Input 3 : 1\n"
     ]
    },
    {
     "name": "stdout",
     "output_type": "stream",
     "text": [
      "Input data =  1 1 1\n",
      "Output data :\n",
      "[0.99211997]\n"
     ]
    }
   ],
   "source": [
    "if __name__ == '__main__':\n",
    "    neural_network = NeuralNetwork()\n",
    "    \n",
    "    print('Random synaptic weights :\\n {}'.format(neural_network.synaptic_weights))\n",
    "    \n",
    "    training_inputs = np.array([[0,0,1],\n",
    "                               [1,1,1],\n",
    "                               [1,0,1],\n",
    "                               [0,1,1]])\n",
    "    training_outputs = np.array([[0,1,1,0]]).T\n",
    "    \n",
    "    neural_network.train(training_inputs, training_outputs, 10000)\n",
    "    \n",
    "    print('synaptic weights after training: \\n {}'.format(neural_network.synaptic_weights))\n",
    "    \n",
    "    A = str(input('Input 1 :'))\n",
    "    B = str(input('Input 2 :'))\n",
    "    C = str(input('Input 3 :'))\n",
    "    \n",
    "    print('Input data = ', A,B,C)\n",
    "    print('Output data :')\n",
    "    print(neural_network.think(np.array([A,B,C])))"
   ]
  },
  {
   "cell_type": "code",
   "execution_count": null,
   "id": "1432155d-3495-4e51-b18f-c3a1a21df1e0",
   "metadata": {},
   "outputs": [],
   "source": []
  },
  {
   "cell_type": "code",
   "execution_count": null,
   "id": "2494a172-f3a8-420f-b599-654b9cad5734",
   "metadata": {},
   "outputs": [],
   "source": []
  }
 ],
 "metadata": {
  "kernelspec": {
   "display_name": "Python 3",
   "language": "python",
   "name": "python3"
  },
  "language_info": {
   "codemirror_mode": {
    "name": "ipython",
    "version": 3
   },
   "file_extension": ".py",
   "mimetype": "text/x-python",
   "name": "python",
   "nbconvert_exporter": "python",
   "pygments_lexer": "ipython3",
   "version": "3.8.10"
  }
 },
 "nbformat": 4,
 "nbformat_minor": 5
}
