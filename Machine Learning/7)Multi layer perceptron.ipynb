{
 "cells": [
  {
   "cell_type": "code",
   "execution_count": 1,
   "id": "51414b28-fe07-4440-8b20-17e3d557feb9",
   "metadata": {},
   "outputs": [],
   "source": [
    "import numpy as np\n",
    "import pandas as pd\n",
    "from sklearn.datasets import fetch_california_housing\n",
    "from sklearn.model_selection import train_test_split\n",
    "from sklearn.preprocessing import StandardScaler\n",
    "from sklearn.neural_network import MLPRegressor\n",
    "from seaborn import heatmap\n",
    "import matplotlib as plt\n",
    "from sklearn.metrics import confusion_matrix"
   ]
  },
  {
   "cell_type": "code",
   "execution_count": 2,
   "id": "6a1dc7ad-c0b5-4812-b69c-1e6ecdcdccd4",
   "metadata": {},
   "outputs": [],
   "source": [
    "#Importing required dataset\n",
    "cal_housing = fetch_california_housing(as_frame = True)\n",
    "x = pd.DataFrame(cal_housing.data, columns = cal_housing.feature_names)\n",
    "y= cal_housing.target"
   ]
  },
  {
   "cell_type": "code",
   "execution_count": 3,
   "id": "85882a61-7179-4c1d-983c-23f8326db426",
   "metadata": {},
   "outputs": [
    {
     "name": "stdout",
     "output_type": "stream",
     "text": [
      "MedInc        float64\n",
      "HouseAge      float64\n",
      "AveRooms      float64\n",
      "AveBedrms     float64\n",
      "Population    float64\n",
      "AveOccup      float64\n",
      "Latitude      float64\n",
      "Longitude     float64\n",
      "dtype: object\n"
     ]
    }
   ],
   "source": [
    "x.head()\n",
    "\n",
    "#y.head()\n",
    "\n",
    "#cal_housing.frame.head()\n",
    "print(x.dtypes)"
   ]
  },
  {
   "cell_type": "code",
   "execution_count": 4,
   "id": "c69f531c-185a-4c9c-91ba-5d49e8443614",
   "metadata": {},
   "outputs": [
    {
     "data": {
      "text/html": [
       "<div>\n",
       "<style scoped>\n",
       "    .dataframe tbody tr th:only-of-type {\n",
       "        vertical-align: middle;\n",
       "    }\n",
       "\n",
       "    .dataframe tbody tr th {\n",
       "        vertical-align: top;\n",
       "    }\n",
       "\n",
       "    .dataframe thead th {\n",
       "        text-align: right;\n",
       "    }\n",
       "</style>\n",
       "<table border=\"1\" class=\"dataframe\">\n",
       "  <thead>\n",
       "    <tr style=\"text-align: right;\">\n",
       "      <th></th>\n",
       "      <th>MedInc</th>\n",
       "      <th>HouseAge</th>\n",
       "      <th>AveRooms</th>\n",
       "      <th>AveBedrms</th>\n",
       "      <th>Population</th>\n",
       "      <th>AveOccup</th>\n",
       "      <th>Latitude</th>\n",
       "      <th>Longitude</th>\n",
       "    </tr>\n",
       "  </thead>\n",
       "  <tbody>\n",
       "    <tr>\n",
       "      <th>10757</th>\n",
       "      <td>10.2849</td>\n",
       "      <td>26.0</td>\n",
       "      <td>7.807095</td>\n",
       "      <td>1.008869</td>\n",
       "      <td>1336.0</td>\n",
       "      <td>2.962306</td>\n",
       "      <td>33.64</td>\n",
       "      <td>-117.87</td>\n",
       "    </tr>\n",
       "    <tr>\n",
       "      <th>1667</th>\n",
       "      <td>6.0224</td>\n",
       "      <td>15.0</td>\n",
       "      <td>6.635802</td>\n",
       "      <td>1.009259</td>\n",
       "      <td>1094.0</td>\n",
       "      <td>3.376543</td>\n",
       "      <td>38.02</td>\n",
       "      <td>-122.21</td>\n",
       "    </tr>\n",
       "    <tr>\n",
       "      <th>603</th>\n",
       "      <td>2.5362</td>\n",
       "      <td>29.0</td>\n",
       "      <td>4.173913</td>\n",
       "      <td>1.119565</td>\n",
       "      <td>1021.0</td>\n",
       "      <td>1.849638</td>\n",
       "      <td>37.69</td>\n",
       "      <td>-122.07</td>\n",
       "    </tr>\n",
       "    <tr>\n",
       "      <th>10209</th>\n",
       "      <td>5.3649</td>\n",
       "      <td>32.0</td>\n",
       "      <td>6.399240</td>\n",
       "      <td>1.038023</td>\n",
       "      <td>719.0</td>\n",
       "      <td>2.733840</td>\n",
       "      <td>33.88</td>\n",
       "      <td>-117.92</td>\n",
       "    </tr>\n",
       "    <tr>\n",
       "      <th>4453</th>\n",
       "      <td>3.1146</td>\n",
       "      <td>48.0</td>\n",
       "      <td>4.183028</td>\n",
       "      <td>0.990017</td>\n",
       "      <td>2484.0</td>\n",
       "      <td>4.133111</td>\n",
       "      <td>34.10</td>\n",
       "      <td>-118.17</td>\n",
       "    </tr>\n",
       "    <tr>\n",
       "      <th>...</th>\n",
       "      <td>...</td>\n",
       "      <td>...</td>\n",
       "      <td>...</td>\n",
       "      <td>...</td>\n",
       "      <td>...</td>\n",
       "      <td>...</td>\n",
       "      <td>...</td>\n",
       "      <td>...</td>\n",
       "    </tr>\n",
       "    <tr>\n",
       "      <th>5492</th>\n",
       "      <td>6.1726</td>\n",
       "      <td>18.0</td>\n",
       "      <td>4.707938</td>\n",
       "      <td>1.234648</td>\n",
       "      <td>3408.0</td>\n",
       "      <td>1.701448</td>\n",
       "      <td>33.97</td>\n",
       "      <td>-118.46</td>\n",
       "    </tr>\n",
       "    <tr>\n",
       "      <th>20568</th>\n",
       "      <td>4.8226</td>\n",
       "      <td>18.0</td>\n",
       "      <td>6.589704</td>\n",
       "      <td>0.985959</td>\n",
       "      <td>1907.0</td>\n",
       "      <td>2.975039</td>\n",
       "      <td>38.66</td>\n",
       "      <td>-121.78</td>\n",
       "    </tr>\n",
       "    <tr>\n",
       "      <th>12390</th>\n",
       "      <td>7.9885</td>\n",
       "      <td>5.0</td>\n",
       "      <td>12.626866</td>\n",
       "      <td>3.716418</td>\n",
       "      <td>117.0</td>\n",
       "      <td>1.746269</td>\n",
       "      <td>33.74</td>\n",
       "      <td>-116.44</td>\n",
       "    </tr>\n",
       "    <tr>\n",
       "      <th>7303</th>\n",
       "      <td>2.8214</td>\n",
       "      <td>40.0</td>\n",
       "      <td>3.771318</td>\n",
       "      <td>1.054264</td>\n",
       "      <td>1257.0</td>\n",
       "      <td>4.872093</td>\n",
       "      <td>33.98</td>\n",
       "      <td>-118.19</td>\n",
       "    </tr>\n",
       "    <tr>\n",
       "      <th>4679</th>\n",
       "      <td>6.2223</td>\n",
       "      <td>52.0</td>\n",
       "      <td>5.959559</td>\n",
       "      <td>1.044118</td>\n",
       "      <td>588.0</td>\n",
       "      <td>2.161765</td>\n",
       "      <td>34.07</td>\n",
       "      <td>-118.34</td>\n",
       "    </tr>\n",
       "  </tbody>\n",
       "</table>\n",
       "<p>4128 rows × 8 columns</p>\n",
       "</div>"
      ],
      "text/plain": [
       "        MedInc  HouseAge   AveRooms  AveBedrms  Population  AveOccup  \\\n",
       "10757  10.2849      26.0   7.807095   1.008869      1336.0  2.962306   \n",
       "1667    6.0224      15.0   6.635802   1.009259      1094.0  3.376543   \n",
       "603     2.5362      29.0   4.173913   1.119565      1021.0  1.849638   \n",
       "10209   5.3649      32.0   6.399240   1.038023       719.0  2.733840   \n",
       "4453    3.1146      48.0   4.183028   0.990017      2484.0  4.133111   \n",
       "...        ...       ...        ...        ...         ...       ...   \n",
       "5492    6.1726      18.0   4.707938   1.234648      3408.0  1.701448   \n",
       "20568   4.8226      18.0   6.589704   0.985959      1907.0  2.975039   \n",
       "12390   7.9885       5.0  12.626866   3.716418       117.0  1.746269   \n",
       "7303    2.8214      40.0   3.771318   1.054264      1257.0  4.872093   \n",
       "4679    6.2223      52.0   5.959559   1.044118       588.0  2.161765   \n",
       "\n",
       "       Latitude  Longitude  \n",
       "10757     33.64    -117.87  \n",
       "1667      38.02    -122.21  \n",
       "603       37.69    -122.07  \n",
       "10209     33.88    -117.92  \n",
       "4453      34.10    -118.17  \n",
       "...         ...        ...  \n",
       "5492      33.97    -118.46  \n",
       "20568     38.66    -121.78  \n",
       "12390     33.74    -116.44  \n",
       "7303      33.98    -118.19  \n",
       "4679      34.07    -118.34  \n",
       "\n",
       "[4128 rows x 8 columns]"
      ]
     },
     "execution_count": 4,
     "metadata": {},
     "output_type": "execute_result"
    }
   ],
   "source": [
    "# split the data for training and testing\n",
    "x_train,x_test,y_train,y_test = train_test_split(x, y, test_size = 0.2)\n",
    "\n",
    "x_test"
   ]
  },
  {
   "cell_type": "code",
   "execution_count": 5,
   "id": "038958f5-842a-43af-a6b9-74b46264ff5b",
   "metadata": {},
   "outputs": [],
   "source": [
    "#Scale the data\n",
    "scale = StandardScaler()\n",
    "x_train_scaled = scale.fit_transform(x_train)\n",
    "x_test_scaled = scale.fit_transform(x_test)\n",
    "\n",
    "#x_test_scaled"
   ]
  },
  {
   "cell_type": "code",
   "execution_count": 6,
   "id": "28142eef-6dab-4433-a95b-63ad0057a323",
   "metadata": {},
   "outputs": [],
   "source": [
    "#train the MLP for the training data\n",
    "# An arbitrary width and depth of the MLP has been choosen\n",
    "regressor = MLPRegressor(hidden_layer_sizes = (100,100,100), activation = 'relu',\n",
    "                        random_state = 1, max_iter = 2000).fit(x_train_scaled, y_train)"
   ]
  },
  {
   "cell_type": "code",
   "execution_count": 7,
   "id": "bf655819-9bfc-405d-9b36-70a6cc302d41",
   "metadata": {},
   "outputs": [
    {
     "name": "stdout",
     "output_type": "stream",
     "text": [
      "predicted outputs: \n",
      " [4.73344852 2.74996418 1.42956767 ... 1.96652905 1.36609075 4.29949233]\n"
     ]
    }
   ],
   "source": [
    "#predicting the unseen test data\n",
    "y_pred = regressor.predict(x_test_scaled)\n",
    "\n",
    "#y_pred.shape\n",
    "#print the outputs to visualise\n",
    "print('predicted outputs: \\n {}'.format(y_pred))"
   ]
  },
  {
   "cell_type": "code",
   "execution_count": 8,
   "id": "c7647743-e09b-4092-b808-d88e9a4b3040",
   "metadata": {},
   "outputs": [
    {
     "name": "stdout",
     "output_type": "stream",
     "text": [
      "0.7126538854361358\n"
     ]
    }
   ],
   "source": [
    "from sklearn.metrics import r2_score\n",
    "\n",
    "'''\n",
    "We cannot implement the confusion matrix for a continuous type\n",
    "'''\n",
    "    \n",
    "r2Score = r2_score(y_test,y_pred)\n",
    "print(r2Score)"
   ]
  },
  {
   "cell_type": "code",
   "execution_count": 9,
   "id": "e1adf244-2fde-4fe4-a090-ed2e76d49916",
   "metadata": {},
   "outputs": [
    {
     "data": {
      "text/plain": [
       "'\\nTo plot the confusion matrix for this regression problem, convert the float values to string and run the code\\nNote: This process is highly time expensive\\n'"
      ]
     },
     "execution_count": 9,
     "metadata": {},
     "output_type": "execute_result"
    }
   ],
   "source": [
    "'''\n",
    "To plot the confusion matrix for this regression problem, convert the float values to string and run the code\n",
    "Note: This process is highly time expensive\n",
    "'''\n",
    "\n",
    "# x['MedInc'] = x['MedInc'].astype(str)\n",
    "# y_pred1 = y_pred.astype(str)\n",
    "# print(y_pred1.dtype)\n",
    "# print(y_pred1)\n",
    "\n",
    "# confusion = confusion_matrix(y_test.astype(str), y_pred1)\n",
    "# heatmap(confusion, annot = True)\n",
    "# plt.show()\n",
    "\n",
    "    "
   ]
  },
  {
   "cell_type": "code",
   "execution_count": null,
   "id": "4c44080e-890e-4473-aa07-3fd15f983694",
   "metadata": {},
   "outputs": [],
   "source": []
  },
  {
   "cell_type": "code",
   "execution_count": null,
   "id": "399f6ddc-21f3-4045-9b82-b5dc43f9f4e2",
   "metadata": {},
   "outputs": [],
   "source": []
  }
 ],
 "metadata": {
  "kernelspec": {
   "display_name": "Python 3",
   "language": "python",
   "name": "python3"
  },
  "language_info": {
   "codemirror_mode": {
    "name": "ipython",
    "version": 3
   },
   "file_extension": ".py",
   "mimetype": "text/x-python",
   "name": "python",
   "nbconvert_exporter": "python",
   "pygments_lexer": "ipython3",
   "version": "3.8.10"
  }
 },
 "nbformat": 4,
 "nbformat_minor": 5
}
