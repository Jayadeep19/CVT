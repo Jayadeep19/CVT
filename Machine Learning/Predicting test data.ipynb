{
 "cells": [
  {
   "cell_type": "code",
   "execution_count": 7,
   "id": "00d068e3-2eaf-4e4c-8b20-3b6bd48da474",
   "metadata": {},
   "outputs": [],
   "source": [
    "import joblib\n",
    "import cv2 as cv\n",
    "import numpy as np\n",
    "import os\n",
    "from matplotlib import pyplot as plt\n",
    "from tensorflow.keras.models import load_model"
   ]
  },
  {
   "cell_type": "code",
   "execution_count": 2,
   "id": "6eeac9ac-a053-4b18-887b-ba36cfbbde65",
   "metadata": {},
   "outputs": [],
   "source": [
    "loaded_model = load_model('trained')"
   ]
  },
  {
   "cell_type": "code",
   "execution_count": 3,
   "id": "d93c5ba7-9af5-4a9f-b4d3-99ab0825410a",
   "metadata": {},
   "outputs": [
    {
     "data": {
      "text/plain": [
       "<keras.engine.sequential.Sequential at 0x21e150bc220>"
      ]
     },
     "execution_count": 3,
     "metadata": {},
     "output_type": "execute_result"
    }
   ],
   "source": [
    "loaded_model"
   ]
  },
  {
   "cell_type": "code",
   "execution_count": 11,
   "id": "fbd855bf-1aaf-426e-9a57-de2eaa9cac26",
   "metadata": {},
   "outputs": [],
   "source": [
    "data = []\n",
    "\n",
    "for files in os.listdir('./test'):\n",
    "    test_images = cv.imread(os.path.join('./test', files))\n",
    "    test_gray = cv.cvtColor(test_images, cv.COLOR_RGB2GRAY)\n",
    "    test_resized = cv.resize(test_gray,(100,100))\n",
    "    data.append([test_resized])"
   ]
  },
  {
   "cell_type": "code",
   "execution_count": 12,
   "id": "ff901eb9-1475-4be4-8a12-6ff469d416a9",
   "metadata": {},
   "outputs": [
    {
     "data": {
      "text/plain": [
       "[[array([[ 75,  69,  66, ..., 127, 135, 115],\n",
       "         [ 68,  81,  70, ..., 126, 134, 117],\n",
       "         [ 64,  68,  70, ..., 123, 134, 114],\n",
       "         ...,\n",
       "         [199, 198, 194, ..., 162, 150, 163],\n",
       "         [191, 198, 200, ..., 218, 122, 109],\n",
       "         [173, 195, 194, ..., 169, 178,  77]], dtype=uint8)],\n",
       " [array([[ 8,  8,  8, ..., 17, 23, 22],\n",
       "         [ 8,  8,  8, ..., 19, 23, 21],\n",
       "         [ 4,  3,  2, ..., 18, 29, 20],\n",
       "         ...,\n",
       "         [71, 65, 71, ..., 82, 77, 85],\n",
       "         [65, 48, 56, ..., 72, 69, 75],\n",
       "         [58, 52, 57, ..., 71, 61, 75]], dtype=uint8)],\n",
       " [array([[  3,   3,   3, ...,   7,  11,   8],\n",
       "         [  3,   3,   3, ...,   9,  11,  17],\n",
       "         [  2,   2,   2, ...,   9,   9,  14],\n",
       "         ...,\n",
       "         [207, 208, 211, ..., 242, 252, 246],\n",
       "         [193, 197, 194, ..., 247, 247, 251],\n",
       "         [188, 201, 203, ..., 251, 237, 253]], dtype=uint8)]]"
      ]
     },
     "execution_count": 12,
     "metadata": {},
     "output_type": "execute_result"
    }
   ],
   "source": [
    "data[0:3]"
   ]
  },
  {
   "cell_type": "code",
   "execution_count": 14,
   "id": "b99d82c3-d899-4194-a9f1-2c63f226b2bb",
   "metadata": {},
   "outputs": [],
   "source": [
    "x = np.array(data)"
   ]
  },
  {
   "cell_type": "code",
   "execution_count": 20,
   "id": "ce5797f3-66e8-45ee-a4c9-2fd93722dd2e",
   "metadata": {},
   "outputs": [],
   "source": [
    "x = x/255\n",
    "x_test = x.reshape(-1, 100, 100, 1)"
   ]
  },
  {
   "cell_type": "code",
   "execution_count": 21,
   "id": "f978338b-9ec2-438e-b4ff-77716d46ebef",
   "metadata": {},
   "outputs": [
    {
     "name": "stdout",
     "output_type": "stream",
     "text": [
      "391/391 [==============================] - 45s 113ms/step\n"
     ]
    }
   ],
   "source": [
    "result = loaded_model.predict(x_test)"
   ]
  },
  {
   "cell_type": "code",
   "execution_count": 23,
   "id": "0b123d1e-6fe4-4193-9842-2ae30a3ec496",
   "metadata": {},
   "outputs": [
    {
     "name": "stdout",
     "output_type": "stream",
     "text": [
      "(12500, 2)\n"
     ]
    }
   ],
   "source": [
    "print(result.shape)"
   ]
  },
  {
   "cell_type": "code",
   "execution_count": 26,
   "id": "0b64d3cc-9fff-4353-8e69-13c4f12ec896",
   "metadata": {},
   "outputs": [
    {
     "data": {
      "text/plain": [
       "array([[0.86353904, 0.13646099],\n",
       "       [0.8627251 , 0.13727492],\n",
       "       [0.8629669 , 0.13703309],\n",
       "       ...,\n",
       "       [0.8638789 , 0.13612112],\n",
       "       [0.86390406, 0.13609594],\n",
       "       [0.8635961 , 0.13640395]], dtype=float32)"
      ]
     },
     "execution_count": 26,
     "metadata": {},
     "output_type": "execute_result"
    }
   ],
   "source": [
    "result"
   ]
  },
  {
   "cell_type": "code",
   "execution_count": null,
   "id": "431b7537-ba5d-4d4b-ada0-5916b25e83bb",
   "metadata": {},
   "outputs": [],
   "source": []
  }
 ],
 "metadata": {
  "kernelspec": {
   "display_name": "Python 3",
   "language": "python",
   "name": "python3"
  },
  "language_info": {
   "codemirror_mode": {
    "name": "ipython",
    "version": 3
   },
   "file_extension": ".py",
   "mimetype": "text/x-python",
   "name": "python",
   "nbconvert_exporter": "python",
   "pygments_lexer": "ipython3",
   "version": "3.8.10"
  }
 },
 "nbformat": 4,
 "nbformat_minor": 5
}
