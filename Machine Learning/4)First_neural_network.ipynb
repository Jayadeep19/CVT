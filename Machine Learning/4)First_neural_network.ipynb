{
 "cells": [
  {
   "cell_type": "code",
   "execution_count": 17,
   "id": "23dfe656-78f7-44eb-a658-5b649bfb382d",
   "metadata": {},
   "outputs": [
    {
     "name": "stdout",
     "output_type": "stream",
     "text": [
      "Random starting synaptic weights :\n",
      "[[-0.16595599]\n",
      " [ 0.44064899]\n",
      " [-0.99977125]]\n",
      "Outputs after training :\n",
      "[[0.2689864 ]\n",
      " [0.3262757 ]\n",
      " [0.23762817]\n",
      " [0.36375058]]\n"
     ]
    }
   ],
   "source": [
    "import numpy as np\n",
    "\n",
    "def sigmoid(x):\n",
    "    return 1/(1 + np.exp(-x))\n",
    "\n",
    "training_inputs = np.array([[0,0,1],\n",
    "                           [1,1,1],\n",
    "                           [1,0,1],\n",
    "                            [0,1,1]])\n",
    "\n",
    "training_outputs = np.array([0,1,1,0]).T\n",
    "training_outputs\n",
    "\n",
    "np.random.seed(1)     #to get the same random numbers\n",
    "\n",
    "synaptic_weights = 2 * np.random.random((3,1)) -1          #weights for the 3 inputs, create a 3*1 array\n",
    "\n",
    "synaptic_weights.dtype\n",
    "\n",
    "print('Random starting synaptic weights :')\n",
    "print(synaptic_weights)\n",
    "\n",
    "for iteration in range(1):\n",
    "    input_layer = training_inputs\n",
    "    output_layer = sigmoid(np.dot(input_layer, synaptic_weights))\n",
    "\n",
    "print('Outputs after training :')\n",
    "print(output_layer)"
   ]
  },
  {
   "cell_type": "code",
   "execution_count": null,
   "id": "54f1d125-347b-48e1-9ddc-b3e1acf87d43",
   "metadata": {},
   "outputs": [],
   "source": []
  },
  {
   "cell_type": "code",
   "execution_count": null,
   "id": "9d343551-e699-40f2-bbba-3f8c45a81d8e",
   "metadata": {},
   "outputs": [],
   "source": []
  },
  {
   "cell_type": "code",
   "execution_count": null,
   "id": "921dff68-2bec-4711-9be8-c4d9190bf45b",
   "metadata": {},
   "outputs": [],
   "source": []
  },
  {
   "cell_type": "code",
   "execution_count": null,
   "id": "9a1f7c9f-95d1-49bd-9965-43a1f97a787f",
   "metadata": {},
   "outputs": [],
   "source": []
  },
  {
   "cell_type": "code",
   "execution_count": null,
   "id": "778cb41d-88c6-4f05-8795-e3245ce7f5ba",
   "metadata": {},
   "outputs": [],
   "source": []
  }
 ],
 "metadata": {
  "kernelspec": {
   "display_name": "Python 3",
   "language": "python",
   "name": "python3"
  },
  "language_info": {
   "codemirror_mode": {
    "name": "ipython",
    "version": 3
   },
   "file_extension": ".py",
   "mimetype": "text/x-python",
   "name": "python",
   "nbconvert_exporter": "python",
   "pygments_lexer": "ipython3",
   "version": "3.8.10"
  }
 },
 "nbformat": 4,
 "nbformat_minor": 5
}
