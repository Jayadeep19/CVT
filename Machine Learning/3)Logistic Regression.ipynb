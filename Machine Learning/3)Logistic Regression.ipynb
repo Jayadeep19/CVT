{
 "cells": [
  {
   "cell_type": "code",
   "execution_count": 29,
   "id": "0270ee1c-8c3b-4f3b-b844-352ab58914b6",
   "metadata": {},
   "outputs": [],
   "source": [
    "import matplotlib.pyplot as plt\n",
    "import pandas as pd\n",
    "import numpy as np"
   ]
  },
  {
   "cell_type": "code",
   "execution_count": null,
   "id": "882fab56-557a-4630-9ae5-a940c0e97bf1",
   "metadata": {},
   "outputs": [],
   "source": [
    "# Generate a dataset\n",
    "# x = sampel values, y = categorical values\n",
    "\n",
    "\n",
    "from sklearn.datasets import make_classification\n",
    "\n",
    "x,y = make_classification(\n",
    "    n_samples = 200,\n",
    "    n_features = 1,\n",
    "    n_redundant = 0,\n",
    "    n_repeated = 0,\n",
    "    n_classes = 2,\n",
    "    n_clusters_per_class = 1,\n",
    "    n_informative = 1\n",
    "    )\n",
    "\n",
    "print(x,y)"
   ]
  },
  {
   "cell_type": "code",
   "execution_count": 31,
   "id": "8152b870-fde1-44a3-9740-7dd9bb97d510",
   "metadata": {},
   "outputs": [
    {
     "data": {
      "image/png": "[encoded data removed]",
      "text/plain": [
       "<Figure size 432x288 with 1 Axes>"
      ]
     },
     "metadata": {
      "needs_background": "light"
     },
     "output_type": "display_data"
    }
   ],
   "source": [
    "#Its always better to visualise the data\n",
    "#scatter plot\n",
    "\n",
    "plt.scatter(x,y,c=y,cmap ='rainbow')\n",
    "plt.title('Scatter Plot for the data generated')\n",
    "plt.show()\n"
   ]
  },
  {
   "cell_type": "code",
   "execution_count": 32,
   "id": "2870c178-ebb5-4a1a-ab32-1596b3cd1672",
   "metadata": {},
   "outputs": [],
   "source": [
    "#split the data to training and testing\n",
    "from sklearn.model_selection import train_test_split\n",
    "x_train,x_test,y_train,y_test = train_test_split(x,y, test_size = 0.2)"
   ]
  },
  {
   "cell_type": "code",
   "execution_count": 33,
   "id": "8088965d-0c17-4133-bf4d-a0173b077644",
   "metadata": {},
   "outputs": [
    {
     "data": {
      "text/plain": [
       "(160, 1)"
      ]
     },
     "execution_count": 33,
     "metadata": {},
     "output_type": "execute_result"
    }
   ],
   "source": [
    "x_train.shape"
   ]
  },
  {
   "cell_type": "code",
   "execution_count": 34,
   "id": "220da653-b052-42e0-a802-8400b0894d1b",
   "metadata": {},
   "outputs": [],
   "source": [
    "#Normalise the dataset\n",
    "from sklearn.preprocessing import StandardScaler\n",
    "\n",
    "sclr = StandardScaler()\n",
    "sclr.fit(x_train)\n",
    "\n",
    "x_train = sclr.transform(x_train)\n",
    "x_test = sclr.transform(x_test)\n"
   ]
  },
  {
   "cell_type": "code",
   "execution_count": 35,
   "id": "0c8b4ad8-4d2e-4612-9ef6-0ba8a0b6b529",
   "metadata": {},
   "outputs": [
    {
     "data": {
      "text/plain": [
       "LogisticRegression()"
      ]
     },
     "execution_count": 35,
     "metadata": {},
     "output_type": "execute_result"
    }
   ],
   "source": [
    "# Fit the training data to the logistic regression\n",
    "from sklearn.linear_model import LogisticRegression\n",
    "\n",
    "log_reg = LogisticRegression()\n",
    "log_reg.fit(x_train,y_train)\n"
   ]
  },
  {
   "cell_type": "code",
   "execution_count": 36,
   "id": "89df2462-7685-4a69-80fc-ea811be84c1b",
   "metadata": {},
   "outputs": [],
   "source": [
    "#make prediction using test data\n",
    "y_pred = log_reg.predict(x_test)\n",
    "#print(y_pred)"
   ]
  },
  {
   "cell_type": "code",
   "execution_count": 37,
   "id": "13eee2f1-43d7-4993-af6b-18bf5ee8051f",
   "metadata": {},
   "outputs": [
    {
     "data": {
      "text/plain": [
       "Text(0.5, 1.0, 'confusion matrix of the Logistic Regression')"
      ]
     },
     "execution_count": 37,
     "metadata": {},
     "output_type": "execute_result"
    },
    {
     "data": {
      "image/png": "[encoded data removed]",
      "text/plain": [
       "<Figure size 432x288 with 2 Axes>"
      ]
     },
     "metadata": {
      "needs_background": "light"
     },
     "output_type": "display_data"
    }
   ],
   "source": [
    "from sklearn.metrics import confusion_matrix\n",
    "from seaborn import heatmap\n",
    "\n",
    "confusion = confusion_matrix(y_test,y_pred)\n",
    "heatmap(confusion, annot = True)\n",
    "plt.xlabel('Predicted classes')\n",
    "plt.ylabel('true classes')\n",
    "plt.title('confusion matrix of the Logistic Regression')\n",
    "\n"
   ]
  },
  {
   "cell_type": "code",
   "execution_count": 38,
   "id": "567635d4-8e7a-485d-9c28-e1234ec1d93a",
   "metadata": {},
   "outputs": [
    {
     "data": {
      "text/plain": [
       "0.925"
      ]
     },
     "execution_count": 38,
     "metadata": {},
     "output_type": "execute_result"
    }
   ],
   "source": [
    "from sklearn.metrics import accuracy_score\n",
    "accuracy_score(y_test, y_pred)"
   ]
  },
  {
   "cell_type": "code",
   "execution_count": null,
   "id": "9a4d5089-f9a0-4be4-99eb-5e3a6210b2b8",
   "metadata": {},
   "outputs": [],
   "source": []
  }
 ],
 "metadata": {
  "kernelspec": {
   "display_name": "Python 3",
   "language": "python",
   "name": "python3"
  },
  "language_info": {
   "codemirror_mode": {
    "name": "ipython",
    "version": 3
   },
   "file_extension": ".py",
   "mimetype": "text/x-python",
   "name": "python",
   "nbconvert_exporter": "python",
   "pygments_lexer": "ipython3",
   "version": "3.8.10"
  }
 },
 "nbformat": 4,
 "nbformat_minor": 5
}
