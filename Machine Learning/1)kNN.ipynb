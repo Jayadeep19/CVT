{
 "cells": [
  {
   "cell_type": "markdown",
   "id": "e9cd4d7b-8601-4763-935c-877a6d80c905",
   "metadata": {
    "tags": []
   },
   "source": [
    "# KNN Classifier"
   ]
  },
  {
   "cell_type": "raw",
   "id": "8a99fe9b-e592-42a7-b883-9170ab147bc2",
   "metadata": {},
   "source": [
    "KNN classifier is implemented using the libraries (Numpy, Pandas,SciKit Learn, Matplotlib)"
   ]
  },
  {
   "cell_type": "code",
   "execution_count": 81,
   "id": "d8fb2ec8-8304-46e8-8a22-34d7a072f975",
   "metadata": {},
   "outputs": [],
   "source": [
    "# kNN Using sci-kit learn\n",
    "# iris Dataset"
   ]
  },
  {
   "cell_type": "code",
   "execution_count": 2,
   "id": "62ae1ae0-b029-46d1-839c-1be6cbb647a2",
   "metadata": {},
   "outputs": [],
   "source": [
    "import numpy as np\n",
    "import matplotlib.pyplot as plt\n",
    "import pandas as pd"
   ]
  },
  {
   "cell_type": "code",
   "execution_count": 3,
   "id": "98892481-1224-459b-b5fa-c5fdfc0a27fb",
   "metadata": {},
   "outputs": [],
   "source": [
    "# Load the dataset\n",
    "url = \"https://archive.ics.uci.edu/ml/machine-learning-databases/iris/iris.data\"\n",
    "\n",
    "# First assign the names of the columns for the dataset\n",
    "names = ['sepal-length','sepal-width','petal-length','petal-width','class']\n",
    "\n",
    "#Now read the dataset to pandas dataframe\n",
    "dataset = pd.read_csv(url, names = names)\n"
   ]
  },
  {
   "cell_type": "code",
   "execution_count": 4,
   "id": "5525f4cd-2a20-4fab-9b64-825ef7c46612",
   "metadata": {},
   "outputs": [
    {
     "data": {
      "text/html": [
       "<div>\n",
       "<style scoped>\n",
       "    .dataframe tbody tr th:only-of-type {\n",
       "        vertical-align: middle;\n",
       "    }\n",
       "\n",
       "    .dataframe tbody tr th {\n",
       "        vertical-align: top;\n",
       "    }\n",
       "\n",
       "    .dataframe thead th {\n",
       "        text-align: right;\n",
       "    }\n",
       "</style>\n",
       "<table border=\"1\" class=\"dataframe\">\n",
       "  <thead>\n",
       "    <tr style=\"text-align: right;\">\n",
       "      <th></th>\n",
       "      <th>sepal-length</th>\n",
       "      <th>sepal-width</th>\n",
       "      <th>petal-length</th>\n",
       "      <th>petal-width</th>\n",
       "      <th>class</th>\n",
       "    </tr>\n",
       "  </thead>\n",
       "  <tbody>\n",
       "    <tr>\n",
       "      <th>0</th>\n",
       "      <td>5.1</td>\n",
       "      <td>3.5</td>\n",
       "      <td>1.4</td>\n",
       "      <td>0.2</td>\n",
       "      <td>Iris-setosa</td>\n",
       "    </tr>\n",
       "    <tr>\n",
       "      <th>1</th>\n",
       "      <td>4.9</td>\n",
       "      <td>3.0</td>\n",
       "      <td>1.4</td>\n",
       "      <td>0.2</td>\n",
       "      <td>Iris-setosa</td>\n",
       "    </tr>\n",
       "    <tr>\n",
       "      <th>2</th>\n",
       "      <td>4.7</td>\n",
       "      <td>3.2</td>\n",
       "      <td>1.3</td>\n",
       "      <td>0.2</td>\n",
       "      <td>Iris-setosa</td>\n",
       "    </tr>\n",
       "    <tr>\n",
       "      <th>3</th>\n",
       "      <td>4.6</td>\n",
       "      <td>3.1</td>\n",
       "      <td>1.5</td>\n",
       "      <td>0.2</td>\n",
       "      <td>Iris-setosa</td>\n",
       "    </tr>\n",
       "    <tr>\n",
       "      <th>4</th>\n",
       "      <td>5.0</td>\n",
       "      <td>3.6</td>\n",
       "      <td>1.4</td>\n",
       "      <td>0.2</td>\n",
       "      <td>Iris-setosa</td>\n",
       "    </tr>\n",
       "  </tbody>\n",
       "</table>\n",
       "</div>"
      ],
      "text/plain": [
       "   sepal-length  sepal-width  petal-length  petal-width        class\n",
       "0           5.1          3.5           1.4          0.2  Iris-setosa\n",
       "1           4.9          3.0           1.4          0.2  Iris-setosa\n",
       "2           4.7          3.2           1.3          0.2  Iris-setosa\n",
       "3           4.6          3.1           1.5          0.2  Iris-setosa\n",
       "4           5.0          3.6           1.4          0.2  Iris-setosa"
      ]
     },
     "execution_count": 4,
     "metadata": {},
     "output_type": "execute_result"
    }
   ],
   "source": [
    "dataset.head()"
   ]
  },
  {
   "cell_type": "code",
   "execution_count": 5,
   "id": "bc706831-6878-491b-a99c-b653c7117798",
   "metadata": {},
   "outputs": [],
   "source": [
    "X = dataset.iloc[:,:-1].values\n",
    "Y = dataset.iloc[:,4].values\n",
    "\n",
    "# print(dataset.iloc[:,4].values)\n",
    "#print (X)\n",
    "#print (Y)"
   ]
  },
  {
   "cell_type": "code",
   "execution_count": 6,
   "id": "384623bc-cdf6-42ea-8017-fca7e038ddd5",
   "metadata": {},
   "outputs": [],
   "source": [
    "# Split the data into training and testing data sets using train_test_split function\n",
    "\n",
    "from sklearn.model_selection import train_test_split\n",
    "X_train, X_test, Y_train, Y_test = train_test_split(X, Y , test_size = 0.20)\n",
    "\n",
    "# print(X_train.shape,'\\n' , X_test.shape)\n"
   ]
  },
  {
   "cell_type": "code",
   "execution_count": 7,
   "id": "d7038d86-31d1-4b55-8e30-b9005d3d55e1",
   "metadata": {},
   "outputs": [],
   "source": [
    "# Normalising the features is a very good practice for efficient and accurate predictions.\n",
    "# Use the function StandardScaler from the preprocessing toolbox\n",
    "\n",
    "from sklearn.preprocessing import StandardScaler\n",
    "scaler = StandardScaler()\n",
    "scaler.fit(X_train)   # To find the mean and std that can be used later\n",
    "\n",
    "#print(scaler.mean_)\n",
    "\n",
    "X_train = scaler.transform(X_train)   # Performs actual standardization\n",
    "X_test = scaler.transform(X_test)\n",
    "\n",
    "#print(X_train)"
   ]
  },
  {
   "cell_type": "code",
   "execution_count": 8,
   "id": "06689167-c5e6-49b4-ad05-12eeacefeebc",
   "metadata": {},
   "outputs": [
    {
     "data": {
      "text/plain": [
       "KNeighborsClassifier()"
      ]
     },
     "execution_count": 8,
     "metadata": {},
     "output_type": "execute_result"
    }
   ],
   "source": [
    "# Now train the model on the transformed training set\n",
    "\n",
    "from sklearn.neighbors import KNeighborsClassifier\n",
    "classifier = KNeighborsClassifier(n_neighbors = 5)\n",
    "classifier.fit(X_train, Y_train)"
   ]
  },
  {
   "cell_type": "code",
   "execution_count": 10,
   "id": "66e80179-e099-4555-a09c-6e974be8052f",
   "metadata": {},
   "outputs": [
    {
     "name": "stdout",
     "output_type": "stream",
     "text": [
      "object\n"
     ]
    }
   ],
   "source": [
    "# Now the predicitons can be made on the test data to test the performance of our KNN\n",
    "\n",
    "Y_predicted = classifier.predict(X_test)\n",
    "\n",
    "# print(Y_test, '\\n', Y_predicted)\n",
    "print(Y_predicted.dtype)"
   ]
  },
  {
   "cell_type": "code",
   "execution_count": 16,
   "id": "d105b0a8-8bfd-4103-9510-5efceb8d19e0",
   "metadata": {},
   "outputs": [
    {
     "name": "stdout",
     "output_type": "stream",
     "text": [
      "[[ 8  0  0]\n",
      " [ 0 12  0]\n",
      " [ 0  1  9]]\n",
      "                 precision    recall  f1-score   support\n",
      "\n",
      "    Iris-setosa       1.00      1.00      1.00         8\n",
      "Iris-versicolor       0.92      1.00      0.96        12\n",
      " Iris-virginica       1.00      0.90      0.95        10\n",
      "\n",
      "       accuracy                           0.97        30\n",
      "      macro avg       0.97      0.97      0.97        30\n",
      "   weighted avg       0.97      0.97      0.97        30\n",
      "\n"
     ]
    }
   ],
   "source": [
    "# Evaluating the algorithm by using the confusion matrix and classification report\n",
    "\n",
    "from sklearn.metrics import classification_report, confusion_matrix\n",
    "\n",
    "confusion = confusion_matrix(Y_test, Y_predicted)     #use the corret ground truth values for the confusion matrices\n",
    "print(confusion)\n",
    "print(classification_report(Y_test, Y_predicted))\n"
   ]
  },
  {
   "cell_type": "code",
   "execution_count": 20,
   "id": "3cc07892-6c41-44db-ab9a-801b3b57137e",
   "metadata": {},
   "outputs": [
    {
     "data": {
      "image/png": "[encoded data removed]",
      "text/plain": [
       "<Figure size 432x288 with 2 Axes>"
      ]
     },
     "metadata": {
      "needs_background": "light"
     },
     "output_type": "display_data"
    }
   ],
   "source": [
    "# Another way to intutivesly represent confusion matrix\n",
    "\n",
    "from seaborn import heatmap\n",
    "\n",
    "heatmap(confusion, annot = True)\n",
    "plt.xlabel('True Values')\n",
    "plt.ylabel('Predicted Values')\n",
    "plt.show()\n"
   ]
  },
  {
   "cell_type": "code",
   "execution_count": 91,
   "id": "17afc41f-f679-4e83-8923-44acf36dbfa7",
   "metadata": {},
   "outputs": [],
   "source": [
    "# We can find the Values of K which gives the best results by running a for loop between say 1 and 40\n",
    "#Initilize a list and append the error values later to the empyt list\n",
    "error = []\n",
    "\n",
    "for k in range(1,40):\n",
    "    clsfy = KNeighborsClassifier(n_neighbors = k)\n",
    "    clsfy.fit(X_train, Y_train)\n",
    "    pred_k = clsfy.predict(X_test)\n",
    "    error.append(np.mean(pred_k != Y_test))\n",
    "\n",
    "    "
   ]
  },
  {
   "cell_type": "code",
   "execution_count": 92,
   "id": "1a288111-617f-4d3b-8fec-a50b1509073b",
   "metadata": {},
   "outputs": [
    {
     "data": {
      "text/plain": [
       "Text(0, 0.5, 'Mean Error')"
      ]
     },
     "execution_count": 92,
     "metadata": {},
     "output_type": "execute_result"
    },
    {
     "data": {
      "image/png": "[encoded data removed]",
      "text/plain": [
       "<Figure size 864x432 with 1 Axes>"
      ]
     },
     "metadata": {
      "needs_background": "light"
     },
     "output_type": "display_data"
    }
   ],
   "source": [
    "#Now we can plot the values of K vs the error at different K-values\n",
    "\n",
    "plt.figure(figsize = (12,6))\n",
    "plt.plot(range(1,40), error, \n",
    "         color = 'red', linestyle = 'dotted', marker = 'o',\n",
    "         markerfacecolor = 'blue', markersize = 10)\n",
    "plt.title('Error rate K value')\n",
    "plt.xlabel('K-Values')\n",
    "plt.ylabel('Mean Error')"
   ]
  },
  {
   "cell_type": "code",
   "execution_count": 22,
   "id": "60be0a0d-3f4f-4439-bbfe-1ac2db0eabfa",
   "metadata": {},
   "outputs": [
    {
     "data": {
      "text/plain": [
       "0.9666666666666667"
      ]
     },
     "execution_count": 22,
     "metadata": {},
     "output_type": "execute_result"
    }
   ],
   "source": [
    "# Classification accuracy\n",
    "from sklearn.metrics import accuracy_score\n",
    "\n",
    "accuracy_score(Y_test,Y_predicted)\n",
    "\n"
   ]
  },
  {
   "cell_type": "code",
   "execution_count": null,
   "id": "f63631ba-827e-48cb-81b3-da775accce6a",
   "metadata": {},
   "outputs": [],
   "source": []
  },
  {
   "cell_type": "code",
   "execution_count": null,
   "id": "2aed83cc-0359-441f-9766-ea0e37bbd849",
   "metadata": {},
   "outputs": [],
   "source": []
  },
  {
   "cell_type": "code",
   "execution_count": null,
   "id": "6ebca7a7-107c-4844-b26b-721a0e1f796a",
   "metadata": {},
   "outputs": [],
   "source": []
  },
  {
   "cell_type": "markdown",
   "id": "70c52496-e8e7-4a00-a895-7918c4c22a70",
   "metadata": {},
   "source": [
    "## Summary"
   ]
  },
  {
   "cell_type": "raw",
   "id": "2e271c5d-a9b9-4ba7-911d-8caf6bed8ffe",
   "metadata": {},
   "source": [
    "KNN is the simplest classifier that calculates the distance between the new point and the already existing training data points. K can be any integer value that defines the number of nearest points that the classifier looks for and makes the prediction for the target class of the new data point"
   ]
  },
  {
   "cell_type": "markdown",
   "id": "932cdc7e-bea3-431f-8138-98696e27bfde",
   "metadata": {},
   "source": [
    "### Steps to implement the K- Nearest neighbor classifier:"
   ]
  },
  {
   "cell_type": "raw",
   "id": "7b2e46de-a2a3-47a1-b231-4102341a041f",
   "metadata": {},
   "source": [
    "1) Loading the libraries \n",
    "    We need - Numpy, Matplotlib, Pandas, Scikit Learn\n",
    "2) Importing the required dataset\n",
    "3)Reading the dataset to local Pandas dataframe\n",
    "4)Use the data to create variables that contains the information of the class and the true ground \n",
    "    values(classes)\n",
    "5)T Now, that the data is organised, split the data into training and test datasets with the desired size\n",
    "    for the test and training sets\n",
    "6)Normalisation, this is an Important step to make all the features range equal i.e every feature contributes \n",
    "    proportionally to the final prediction\n",
    "7)Train the classifier with training data\n",
    "8)Test the predicitons using the test data.\n",
    "9) Finally, evaluate the algorithm using the confusion matrix and classification report"
   ]
  },
  {
   "cell_type": "code",
   "execution_count": null,
   "id": "3facd728-de11-4f1c-9ba3-4340a4924154",
   "metadata": {},
   "outputs": [],
   "source": []
  },
  {
   "cell_type": "code",
   "execution_count": null,
   "id": "0a53f1bf-11aa-4f67-8963-816402582854",
   "metadata": {},
   "outputs": [],
   "source": []
  }
 ],
 "metadata": {
  "kernelspec": {
   "display_name": "Python 3",
   "language": "python",
   "name": "python3"
  },
  "language_info": {
   "codemirror_mode": {
    "name": "ipython",
    "version": 3
   },
   "file_extension": ".py",
   "mimetype": "text/x-python",
   "name": "python",
   "nbconvert_exporter": "python",
   "pygments_lexer": "ipython3",
   "version": "3.8.10"
  }
 },
 "nbformat": 4,
 "nbformat_minor": 5
}
