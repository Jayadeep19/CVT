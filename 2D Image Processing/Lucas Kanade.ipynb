{
 "cells": [
  {
   "cell_type": "code",
   "execution_count": 1,
   "id": "0eeba779-4868-4d77-a09c-644e27901a91",
   "metadata": {},
   "outputs": [],
   "source": [
    "import cv2\n",
    "import numpy as np"
   ]
  },
  {
   "cell_type": "code",
   "execution_count": 2,
   "id": "6900ba43-91c9-4270-bd9b-7457781d73cc",
   "metadata": {},
   "outputs": [],
   "source": [
    "ix, iy, z = 200,200,1\n",
    "def onMouse(event, x, y, flag, param):\n",
    "    global ix,iy,z\n",
    "    if event == cv2.EVENT_LBUTTONDOWN:\n",
    "        ix, iy = x, y\n",
    "        z = -1"
   ]
  },
  {
   "cell_type": "code",
   "execution_count": 3,
   "id": "d0a6662a-6b1d-46d8-afea-d085a1917871",
   "metadata": {},
   "outputs": [],
   "source": [
    "cv2.namedWindow('window')\n",
    "cv2.setMouseCallback('window', onMouse)\n",
    "\n",
    "cap = cv2.VideoCapture(0)\n",
    "\n",
    "while True:\n",
    "  _, frame = cap.read()\n",
    "  cv2.imshow(\"window\",frame)\n",
    "\n",
    "  if cv2.waitKey(1) == 27 or z ==-1:\n",
    "    old_gray = cv2.cvtColor(frame, cv2.COLOR_BGR2GRAY)\n",
    "    cv2.destroyAllWindows()\n",
    "    break\n",
    "    \n",
    "old_points = np.array([[ix,iy]], dtype ='float32').reshape(-1,1,2)\n",
    "mask = np.zeros_like(frame)\n",
    "    \n",
    "while True:\n",
    "    _, frame2 = cap.read()\n",
    "    new_gray = cv2.cvtColor(frame2,cv2.COLOR_BGR2GRAY)\n",
    "    new_points,status,error = cv2.calcOpticalFlowPyrLK(old_gray,new_gray,old_points,\n",
    "                                        None, maxLevel = 1,\n",
    "                                        criteria = (cv2.TERM_CRITERIA_EPS | cv2.TERM_CRITERIA_COUNT,\n",
    "                                                   15,0.08))\n",
    "    array = np.ravel(new_points)\n",
    "    cv2.circle(mask, (int(array[0]), int(array[1])), 2, (0,255,0), 2)\n",
    "    combine = cv2.addWeighted(frame2, 0.65, mask, 0.35, 0.1)\n",
    "    \n",
    "    cv2.imshow('Mask', mask)\n",
    "    cv2.imshow('Tracking', combine)\n",
    "    \n",
    "    old_gray = new_gray.copy()\n",
    "    old_points = new_points.copy()\n",
    "    \n",
    "    if cv2.waitKey(1) == 27:\n",
    "        cap.release()\n",
    "        cv2.destroyAllWindows()\n",
    "        break\n",
    "    "
   ]
  },
  {
   "cell_type": "code",
   "execution_count": null,
   "id": "e52a463a-43c2-411d-8dd4-7f7096167690",
   "metadata": {},
   "outputs": [],
   "source": []
  },
  {
   "cell_type": "code",
   "execution_count": null,
   "id": "53f37215-65d4-4e7c-a657-629aa59ad01d",
   "metadata": {},
   "outputs": [],
   "source": []
  }
 ],
 "metadata": {
  "kernelspec": {
   "display_name": "Python 3",
   "language": "python",
   "name": "python3"
  },
  "language_info": {
   "codemirror_mode": {
    "name": "ipython",
    "version": 3
   },
   "file_extension": ".py",
   "mimetype": "text/x-python",
   "name": "python",
   "nbconvert_exporter": "python",
   "pygments_lexer": "ipython3",
   "version": "3.8.10"
  }
 },
 "nbformat": 4,
 "nbformat_minor": 5
}
