{
 "cells": [
  {
   "cell_type": "code",
   "execution_count": 1,
   "id": "6c26e54c-5b82-46da-91bb-5f758bc38442",
   "metadata": {},
   "outputs": [],
   "source": [
    "import cv2"
   ]
  },
  {
   "cell_type": "code",
   "execution_count": 2,
   "id": "b899b0e8-922b-4b37-a6c9-34eacccefacc",
   "metadata": {},
   "outputs": [],
   "source": [
    "detector = cv2.CascadeClassifier('haarcascade_frontalface_alt2.xml')\n",
    "eye_detector = cv2.CascadeClassifier('haarcascade_eye.xml')"
   ]
  },
  {
   "cell_type": "code",
   "execution_count": 5,
   "id": "54c28f7f-13ba-4b42-beb2-7dd35b31705c",
   "metadata": {},
   "outputs": [],
   "source": [
    "img = cv2.imread('kpop.png')\n",
    "\n",
    "while True:\n",
    "    gray = cv2.cvtColor(img, cv2.COLOR_BGR2GRAY)\n",
    "    \n",
    "    faces = detector.detectMultiScale(gray, 1.1, 3)\n",
    "    \n",
    "    for x,y,w,h in faces:\n",
    "        rectangles = cv2.rectangle(img, (x,y),(x+w,y+h),(0,0,255), 2)\n",
    "        roi_gray = gray[y:y+h, x:x+w]\n",
    "        roi_color = img[y:y+h, x:x+w]\n",
    "        eyes = eye_detector.detectMultiScale(roi_gray, 1.1, 3)\n",
    "        for ex,ey,ew,eh in eyes:\n",
    "            cv2.rectangle(roi_color, (ex, ey), (ex+ew, ey+eh), (0,255,0), 1)   \n",
    "        cv2.imshow('faces detected', img)\n",
    "    \n",
    "    if cv2.waitKey(0) == 27:\n",
    "        cv2.destroyAllWindows()\n",
    "        break\n",
    "    "
   ]
  },
  {
   "cell_type": "code",
   "execution_count": 4,
   "id": "9b651b2a-c5f2-474f-83c2-31f4e36aa352",
   "metadata": {},
   "outputs": [],
   "source": [
    "cap = cv2.VideoCapture(0)\n",
    "\n",
    "while True:\n",
    "    ret, frame = cap.read()\n",
    "    gray2 = cv2.cvtColor(frame, cv2.COLOR_BGR2GRAY)\n",
    "    \n",
    "    faces = detector.detectMultiScale(gray2, 1.1, 3)\n",
    "    \n",
    "    for x,y,w,h in faces:\n",
    "        cv2.rectangle(frame, (x,y),(x+w,y+h),(0,0,255), 2)\n",
    "        #print(rectangles)\n",
    "        roi_gray2 = gray2[y:y+h, x:x+w]\n",
    "        roi_color2 = frame[y:y+h, x:x+w]\n",
    "        eyes2 = eye_detector.detectMultiScale(roi_gray2)\n",
    "        for ex,ey,ew,eh in eyes2:\n",
    "            cv2.rectangle(roi_color2, (ex, ey), (ex+ew, ey+eh), (0,255,0), 1)\n",
    "        cv2.imshow('faces detected', frame)\n",
    "    \n",
    "    #print('{0} faces detected'.format(rectangles.size))\n",
    "    \n",
    "    \n",
    "    if cv2.waitKey(1) == 27:\n",
    "        cap.release()\n",
    "        cv2.destroyAllWindows()\n",
    "        break\n",
    "    "
   ]
  },
  {
   "cell_type": "code",
   "execution_count": null,
   "id": "6481e51b-b3bb-4888-b60e-d22a0db61756",
   "metadata": {},
   "outputs": [],
   "source": []
  },
  {
   "cell_type": "code",
   "execution_count": null,
   "id": "0a4a10fd-9b8e-4ad0-9e82-e9db056824d5",
   "metadata": {},
   "outputs": [],
   "source": []
  }
 ],
 "metadata": {
  "kernelspec": {
   "display_name": "Python 3",
   "language": "python",
   "name": "python3"
  },
  "language_info": {
   "codemirror_mode": {
    "name": "ipython",
    "version": 3
   },
   "file_extension": ".py",
   "mimetype": "text/x-python",
   "name": "python",
   "nbconvert_exporter": "python",
   "pygments_lexer": "ipython3",
   "version": "3.8.10"
  }
 },
 "nbformat": 4,
 "nbformat_minor": 5
}
