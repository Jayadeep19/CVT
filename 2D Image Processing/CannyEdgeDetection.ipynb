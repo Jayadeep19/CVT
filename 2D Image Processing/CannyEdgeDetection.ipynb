{
 "cells": [
  {
   "cell_type": "code",
   "execution_count": 1,
   "id": "d4a16aa0-8017-45af-8ec6-17352814a7a7",
   "metadata": {},
   "outputs": [],
   "source": [
    "import cv2"
   ]
  },
  {
   "cell_type": "code",
   "execution_count": 2,
   "id": "96e1a888-a096-4e83-8307-f7a594e501b8",
   "metadata": {},
   "outputs": [],
   "source": [
    "img = cv2.imread('contours.jpeg')\n",
    "\n",
    "cv2.namedWindow('window')\n",
    "\n",
    "gray = cv2.cvtColor(img, cv2.COLOR_BGR2GRAY)\n",
    "\n",
    "resize = cv2.resize(gray, (350, 600))\n",
    "\n",
    "def nothing(x):\n",
    "    pass\n",
    "\n",
    "cv2.createTrackbar('lower', 'window', 0, 255, nothing)\n",
    "cv2.createTrackbar('upper','window', 0, 255, nothing)\n",
    "\n",
    "\n",
    "while True:\n",
    "    \n",
    "    x = cv2.getTrackbarPos('lower','window')\n",
    "    y = cv2.getTrackbarPos('upper','window')\n",
    "    \n",
    "    edge = cv2.Canny(resize, x, y)\n",
    "    \n",
    "    cv2.imshow('window',edge)\n",
    "    \n",
    "    if cv2.waitKey(1)== 27:\n",
    "        cv2.destroyAllWindows()\n",
    "        break\n",
    "    \n"
   ]
  },
  {
   "cell_type": "markdown",
   "id": "913a3a8e-728f-4ea9-961d-33ddc00263e5",
   "metadata": {},
   "source": [
    "## for a webcam feed"
   ]
  },
  {
   "cell_type": "code",
   "execution_count": 3,
   "id": "dce47beb-87b2-4a8e-bb9c-7891a9e32d0b",
   "metadata": {},
   "outputs": [],
   "source": [
    "cap = cv2.VideoCapture(0)\n",
    "\n",
    "cv2.namedWindow('window')\n",
    "\n",
    "\n",
    "def nothing(x):\n",
    "    pass\n",
    "\n",
    "cv2.createTrackbar('lower', 'window', 0, 255, nothing)\n",
    "cv2.createTrackbar('upper','window', 0, 255, nothing)\n",
    "\n",
    "\n",
    "while True:\n",
    "    ret, frame = cap.read()\n",
    "    gray = cv2.cvtColor(frame, cv2.COLOR_BGR2GRAY)\n",
    "\n",
    "    x = cv2.getTrackbarPos('lower','window')\n",
    "    y = cv2.getTrackbarPos('upper','window')\n",
    "    \n",
    "    edge = cv2.Canny(gray, x, y)\n",
    "    \n",
    "    cv2.imshow('window',edge)\n",
    "    \n",
    "    if cv2.waitKey(1)== 27:\n",
    "        cap.release()\n",
    "        cv2.destroyAllWindows()\n",
    "        break\n",
    "    \n"
   ]
  },
  {
   "cell_type": "code",
   "execution_count": null,
   "id": "65112404-7204-435a-85fd-d790a941c32b",
   "metadata": {},
   "outputs": [],
   "source": []
  }
 ],
 "metadata": {
  "kernelspec": {
   "display_name": "Python 3",
   "language": "python",
   "name": "python3"
  },
  "language_info": {
   "codemirror_mode": {
    "name": "ipython",
    "version": 3
   },
   "file_extension": ".py",
   "mimetype": "text/x-python",
   "name": "python",
   "nbconvert_exporter": "python",
   "pygments_lexer": "ipython3",
   "version": "3.8.10"
  }
 },
 "nbformat": 4,
 "nbformat_minor": 5
}
